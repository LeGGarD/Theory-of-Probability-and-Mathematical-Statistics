{
 "cells": [
  {
   "cell_type": "markdown",
   "metadata": {},
   "source": [
    "# Урок 6. Взаимосвязь величин. Параметрические и непараметрические показатели корреляции. Корреляционный анализ.\n",
    "***\n",
    "1. Даны значения величины заработной платы заемщиков банка (zp) и значения их поведенческого кредитного скоринга (ks):\n",
    "    zp = [35, 45, 190, 200, 40, 70, 54, 150, 120, 110],\n",
    "    ks = [401, 574, 874, 919, 459, 739, 653, 902, 746, 832].\n",
    "    Найдите ковариацию этих двух величин с помощью элементарных действий, а затем с помощью функции cov из numpy\n",
    "    Полученные значения должны быть равны.\n",
    "    Найдите коэффициент корреляции Пирсона с помощью ковариации и среднеквадратичных отклонений двух признаков,\n",
    "    а затем с использованием функций из библиотек numpy и pandas.\n",
    "***\n"
   ]
  },
  {
   "cell_type": "code",
   "execution_count": 1,
   "metadata": {},
   "outputs": [],
   "source": [
    "import numpy as np"
   ]
  },
  {
   "cell_type": "code",
   "execution_count": 22,
   "metadata": {},
   "outputs": [
    {
     "name": "stdout",
     "output_type": "stream",
     "text": [
      "9157.839999999997\n",
      "9157.84\n"
     ]
    }
   ],
   "source": [
    "zp = np.array([35, 45, 190, 200, 40, 70, 54, 150, 120, 110])\n",
    "ks = np.array([401, 574, 874, 919, 459, 739, 653, 902, 746, 832])\n",
    "\n",
    "cov1 = (zp*ks).mean() - zp.mean() * ks.mean()\n",
    "\n",
    "cov2 = np.cov(zp, ks, ddof=0)\n",
    "\n",
    "print(cov1)\n",
    "\n",
    "print(cov2[1][0])"
   ]
  },
  {
   "cell_type": "code",
   "execution_count": 26,
   "metadata": {
    "scrolled": true
   },
   "outputs": [
    {
     "name": "stdout",
     "output_type": "stream",
     "text": [
      "59.115480206118605 174.55340157098058\n",
      "59.115480206118605 174.55340157098058\n"
     ]
    }
   ],
   "source": [
    "stdx1 = np.sqrt(sum(abs(zp - zp.mean()) ** 2) / len(zp))\n",
    "stdy1 = np.sqrt(sum(abs(ks - ks.mean()) ** 2) / len(ks))\n",
    "\n",
    "stdx2 = zp.std()\n",
    "stdy2 = ks.std()\n",
    "\n",
    "print(stdx1, stdy1)\n",
    "print(stdx2, stdy2)"
   ]
  },
  {
   "cell_type": "code",
   "execution_count": 32,
   "metadata": {},
   "outputs": [
    {
     "name": "stdout",
     "output_type": "stream",
     "text": [
      "0.8874898028994357\n",
      "0.8874900920739162\n"
     ]
    }
   ],
   "source": [
    "corrcoef1 = 9157.84 / (59.1155 * 174.5534)\n",
    "\n",
    "corrcoef2 = np.corrcoef(zp, ks)\n",
    "\n",
    "print(corrcoef1)\n",
    "print(corrcoef2[1][0])"
   ]
  },
  {
   "cell_type": "markdown",
   "metadata": {},
   "source": [
    "***\n",
    "2. Измерены значения IQ выборки студентов,\n",
    "    обучающихся в местных технических вузах:\n",
    "    131, 125, 115, 122, 131, 115, 107, 99, 125, 111.\n",
    "    Известно, что в генеральной совокупности IQ распределен нормально.\n",
    "    Найдите доверительный интервал для математического ожидания с надежностью 0.95.\n",
    "***"
   ]
  },
  {
   "cell_type": "code",
   "execution_count": 33,
   "metadata": {},
   "outputs": [],
   "source": [
    "import scipy.stats as st"
   ]
  },
  {
   "cell_type": "code",
   "execution_count": 42,
   "metadata": {},
   "outputs": [
    {
     "name": "stdout",
     "output_type": "stream",
     "text": [
      "110.55608365158724 125.64391634841274\n"
     ]
    }
   ],
   "source": [
    "X = np.array([131, 125, 115, 122, 131, 115, 107, 99, 125, 111])\n",
    "n = len(X)\n",
    "alpha = 0.05\n",
    "M = X.mean()\n",
    "std = np.std(X, ddof=1)\n",
    "\n",
    "t = st.t.ppf(1 - (alpha / 2), n-1)\n",
    "\n",
    "x1 = M - t * std / np.sqrt(n) \n",
    "x2 = M + t * std / np.sqrt(n) \n",
    "\n",
    "print(x1, x2)"
   ]
  },
  {
   "cell_type": "markdown",
   "metadata": {},
   "source": [
    "***\n",
    "3. Известно, что рост футболистов в сборной распределен нормально\n",
    "    с дисперсией генеральной совокупности, равной 25 кв.см. Объем выборки равен 27,\n",
    "    среднее выборочное составляет 174.2. Найдите доверительный интервал для математического\n",
    "    ожидания с надежностью 0.95.\n",
    "***"
   ]
  },
  {
   "cell_type": "code",
   "execution_count": 38,
   "metadata": {},
   "outputs": [
    {
     "name": "stdout",
     "output_type": "stream",
     "text": [
      "172.3140237765397 176.08597622346028\n"
     ]
    }
   ],
   "source": [
    "variance = 25\n",
    "std = 5\n",
    "n = 27\n",
    "M = 174.2\n",
    "alpha = 0.05\n",
    "\n",
    "norm = st.norm.ppf(.975)\n",
    "\n",
    "x1 = M - norm * std / np.sqrt(n) \n",
    "x2 = M + norm * std / np.sqrt(n)  \n",
    "\n",
    "print(x1, x2)"
   ]
  },
  {
   "cell_type": "markdown",
   "metadata": {},
   "source": [
    "Выбрать тему для курсового проекта. Курсовой по желанию. Данные с kaggle.com\n",
    "Варианты тем:\n",
    "1. EDA (рассчитать описательные статистики+ графический анализ с выводами)\n",
    "2. Тестирование гипотезы (условия применимости того или иного критерия проверить , можно с графиками+ провести тестирование, оформить вывод)\n",
    "3. **Линейная регрессия (условия применимости метода проверить ,можно с графиками, построить модель, исследовать на статистическую значимость модель ,можно и коэффициенты (самостоятельное изучение), коэффициент детерминации)**\n",
    "4. Однофакторный или двухфакторный дисперсионный анализ (обязательно условия применимости исследовать, провести анализ, оформить вывод)  \n",
    "Требования к оформлению : название темы, сопроводительный текст к действиям, что и почему делаете, какой вывод.  \n",
    "Срок сдачи -до 07.09.21\n"
   ]
  },
  {
   "cell_type": "markdown",
   "metadata": {},
   "source": [
    "### Интереснее всего попробовать реализовать третью тему"
   ]
  }
 ],
 "metadata": {
  "kernelspec": {
   "display_name": "Python 3 (ipykernel)",
   "language": "python",
   "name": "python3"
  },
  "language_info": {
   "codemirror_mode": {
    "name": "ipython",
    "version": 3
   },
   "file_extension": ".py",
   "mimetype": "text/x-python",
   "name": "python",
   "nbconvert_exporter": "python",
   "pygments_lexer": "ipython3",
   "version": "3.7.0"
  }
 },
 "nbformat": 4,
 "nbformat_minor": 2
}
