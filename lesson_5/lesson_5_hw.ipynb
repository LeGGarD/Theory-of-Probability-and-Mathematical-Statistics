{
 "cells": [
  {
   "cell_type": "markdown",
   "metadata": {},
   "source": [
    "# Урок 5. Проверка статистических гипотез. P-значения. Доверительные интервалы. A/B-тестирование  \n",
    "***\n",
    "1. Известно, что генеральная совокупность распределена нормально  \n",
    "со средним квадратическим отклонением, равным 16.  \n",
    "Найти доверительный интервал для оценки математического ожидания a с надежностью 0.95,  \n",
    "если выборочная средняя M = 80, а объем выборки n = 256.  \n",
    "***"
   ]
  },
  {
   "cell_type": "code",
   "execution_count": 26,
   "metadata": {},
   "outputs": [],
   "source": [
    "import numpy as np\n",
    "from math import sqrt\n",
    "import scipy.stats as st"
   ]
  },
  {
   "cell_type": "code",
   "execution_count": 27,
   "metadata": {},
   "outputs": [
    {
     "name": "stdout",
     "output_type": "stream",
     "text": [
      "78.04003601545995 81.95996398454005\n"
     ]
    }
   ],
   "source": [
    "std = 16 # среднее квадратичное отклонение\n",
    "a = 0.05 # \"альфа\" коэффициент \n",
    "M = 80   # средняя выборочная\n",
    "n = 256  # объем выборки\n",
    "\n",
    "# расчет доверительных интервалов\n",
    "x1 = M - st.norm.ppf(.975) * 16 / sqrt(n)\n",
    "x2 = M + st.norm.ppf(.975) * 16 / sqrt(n)\n",
    "\n",
    "print(x1, x2)"
   ]
  },
  {
   "cell_type": "markdown",
   "metadata": {},
   "source": [
    "***\n",
    "2. В результате 10 независимых измерений некоторой величины X, выполненных с одинаковой точностью,  \n",
    "получены опытные данные: 6.9, 6.1, 6.2, 6.8, 7.5, 6.3, 6.4, 6.9, 6.7, 6.1  \n",
    "Предполагая, что результаты измерений подчинены нормальному закону распределения вероятностей,  \n",
    "оценить истинное значение величины X при помощи доверительного интервала, покрывающего это  \n",
    "значение с доверительной вероятностью 0,95.  \n",
    "***"
   ]
  },
  {
   "cell_type": "code",
   "execution_count": 28,
   "metadata": {},
   "outputs": [
    {
     "name": "stdout",
     "output_type": "stream",
     "text": [
      "6.590000000000001 0.42766809560686203\n"
     ]
    }
   ],
   "source": [
    "n = 10          # объем выборки\n",
    "a = 0.05        # \"альфа\" коэффициент \n",
    "                # сама выборка\n",
    "X = np.array([6.9, 6.1, 6.2, 6.8, 7.5, 6.3, 6.4, 6.9, 6.7, 6.1]) \n",
    "M = X.mean()    # средняя выборочная\n",
    "std = np.std(X) # среднее квадратичное отклонение у выборки\n",
    "\n",
    "print(M, std)"
   ]
  },
  {
   "cell_type": "code",
   "execution_count": 29,
   "metadata": {
    "scrolled": true
   },
   "outputs": [],
   "source": [
    "t = st.t.ppf(1 - (a / 2), n-1) # значение критерия Стьюдента при альфа = 0.05 и объеме выборки 10"
   ]
  },
  {
   "cell_type": "code",
   "execution_count": 30,
   "metadata": {},
   "outputs": [
    {
     "name": "stdout",
     "output_type": "stream",
     "text": [
      "6.284064674352047 6.8959353256479545\n"
     ]
    }
   ],
   "source": [
    "# расчет доверительных интервалов\n",
    "x1 = M - t * std / sqrt(n)\n",
    "x2 = M + t * std / sqrt(n)\n",
    "\n",
    "print(x1, x2)"
   ]
  },
  {
   "cell_type": "markdown",
   "metadata": {},
   "source": [
    "#### Решать через тест гипотезы  \n",
    "***\n",
    "1. Утверждается, что шарики для подшипников, изготовленные автоматическим станком, имеют средний диаметр 17 мм.  \n",
    "Используя односторонний критерий с α=0,05, проверить эту гипотезу, если в выборке из n=100 шариков средний диаметр  \n",
    "оказался равным 17.5 мм, а дисперсия известна и равна 4 кв. мм.  \n",
    "***"
   ]
  },
  {
   "cell_type": "code",
   "execution_count": 34,
   "metadata": {},
   "outputs": [
    {
     "name": "stdout",
     "output_type": "stream",
     "text": [
      "1.6448536269514722 2.5\n"
     ]
    }
   ],
   "source": [
    "a0 = 17\n",
    "alpha = 0.05 # \"альфа\" коэффициент \n",
    "n = 100      # объем выборки\n",
    "a1 = 17.5\n",
    "variance = 4\n",
    "standard_deviation = 2\n",
    "\n",
    "# Н0: a = 17, H1: a > 17\n",
    "\n",
    "Z_critical = st.norm.ppf(.95) \n",
    "Z = (a1 - a0) * sqrt(n) / standard_deviation\n",
    "\n",
    "# Альтернативная гипотеза предполагает, что a > 17, значит \n",
    "# если Z < Z_critical - Н0 принимается (погрешность размеров детали лежит в пределах допустимого отклонения), \n",
    "# если Z > Z_critical - Н0 отвергается (станок требует доработки, детали получаются бракованные)\n",
    "\n",
    "print(Z_critical, Z)"
   ]
  },
  {
   "cell_type": "markdown",
   "metadata": {},
   "source": [
    "Z лежит в критической зоне отклонения нулевой гипотезы. Значит станок требует настройки"
   ]
  },
  {
   "cell_type": "markdown",
   "metadata": {},
   "source": [
    "***\n",
    "2. Продавец утверждает, что средний вес пачки печенья составляет 200 г.  \n",
    "Из партии извлечена выборка из 10 пачек. Вес каждой пачки составляет:  \n",
    "202, 203, 199, 197, 195, 201, 200, 204, 194, 190.  \n",
    "Известно, что их веса распределены нормально.  \n",
    "Верно ли утверждение продавца, если учитывать, что доверительная вероятность равна 99%?\n",
    "***"
   ]
  },
  {
   "cell_type": "code",
   "execution_count": null,
   "metadata": {},
   "outputs": [],
   "source": [
    "a0 = 200\n",
    "n = 10\n",
    "X = np.array([202, 203, 199, 197, 195, 201, 200, 204, 194, 190])\n",
    "alpha = 0.01\n",
    "a1 = X.mean()\n",
    "std = np.std(X)\n",
    "\n",
    "#Н0: a = 200, H1: a != 200\n",
    "\n",
    "Z_critical = st.norm.ppf(.995)\n",
    "Z = (a1 - a0) * sqrt(n) / std\n",
    "\n",
    "print"
   ]
  },
  {
   "cell_type": "code",
   "execution_count": 33,
   "metadata": {},
   "outputs": [
    {
     "data": {
      "text/plain": [
       "2.5758293035489004"
      ]
     },
     "execution_count": 33,
     "metadata": {},
     "output_type": "execute_result"
    }
   ],
   "source": [
    "st.norm.ppf(.995)"
   ]
  },
  {
   "cell_type": "code",
   "execution_count": null,
   "metadata": {},
   "outputs": [],
   "source": []
  }
 ],
 "metadata": {
  "kernelspec": {
   "display_name": "Python 3",
   "language": "python",
   "name": "python3"
  },
  "language_info": {
   "codemirror_mode": {
    "name": "ipython",
    "version": 3
   },
   "file_extension": ".py",
   "mimetype": "text/x-python",
   "name": "python",
   "nbconvert_exporter": "python",
   "pygments_lexer": "ipython3",
   "version": "3.8.5"
  }
 },
 "nbformat": 4,
 "nbformat_minor": 4
}
