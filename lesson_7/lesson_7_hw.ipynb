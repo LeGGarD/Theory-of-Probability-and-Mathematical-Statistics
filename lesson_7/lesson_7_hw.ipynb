{
 "cells": [
  {
   "cell_type": "markdown",
   "metadata": {},
   "source": [
    "# Урок 7. Многомерный статистический анализ. Линейная регрессия\n",
    "***\n",
    "## 1. Даны значения величины заработной платы заемщиков банка (zp) и значения их поведенческого кредитного скоринга (ks): zp = [35, 45, 190, 200, 40, 70, 54, 150, 120, 110], ks = [401, 574, 874, 919, 459, 739, 653, 902, 746, 832]. Используя математические операции, посчитать коэффициенты линейной регрессии, приняв за X заработную плату (то есть, zp - признак), а за y - значения скорингового балла (то есть, ks - целевая переменная). Произвести расчет как с использованием intercept, так и без.\n",
    "***"
   ]
  },
  {
   "cell_type": "code",
   "execution_count": 11,
   "metadata": {},
   "outputs": [],
   "source": [
    "import matplotlib.pyplot as plt\n",
    "%matplotlib inline\n",
    "import numpy as np"
   ]
  },
  {
   "cell_type": "code",
   "execution_count": 97,
   "metadata": {},
   "outputs": [
    {
     "name": "stdout",
     "output_type": "stream",
     "text": [
      "Коэффициент b1: 2.6205388824027653\n",
      "Коэффициент b0: 444.17735732435955\n"
     ]
    }
   ],
   "source": [
    "zp = np.array([35, 45, 190, 200, 40, 70, 54, 150, 120, 110])\n",
    "ks = np.array([401, 574, 874, 919, 459, 739, 653, 902, 746, 832])\n",
    "\n",
    "# b = (np.mean(zp*ks) - np.mean(zp) * np.mean(ks)) / (np.mean(zp**2) - np.mean(zp)**2)\n",
    "\n",
    "n = 10\n",
    "b = (n * (np.sum(zp*ks)) - (np.sum(zp) * np.sum(ks))) / (n * (np.sum(zp**2)) - ((np.sum(zp)**2)))\n",
    "a = np.mean(ks)-b*np.mean(zp)\n",
    "\n",
    "print(f'Коэффициент b1: {b}\\n'\n",
    "      f'Коэффициент b0: {a}')"
   ]
  },
  {
   "cell_type": "code",
   "execution_count": 108,
   "metadata": {},
   "outputs": [
    {
     "data": {
      "text/plain": [
       "numpy.ndarray"
      ]
     },
     "execution_count": 108,
     "metadata": {},
     "output_type": "execute_result"
    }
   ],
   "source": [
    "type(y_hat)"
   ]
  },
  {
   "cell_type": "code",
   "execution_count": 116,
   "metadata": {},
   "outputs": [
    {
     "name": "stdout",
     "output_type": "stream",
     "text": [
      "Новые значения кредитного скоринга:\n",
      "[536. 562. 942. 968. 549. 628. 586. 837. 759. 732.]\n",
      "\n",
      "Старые значения кредитного скоринга:\n",
      "[401 574 874 919 459 739 653 902 746 832]\n"
     ]
    }
   ],
   "source": [
    "y_hat = 444.1774 + 2.62054 * zp\n",
    "print(f'Новые значения кредитного скоринга:\\n{np.around(y_hat)}\\n\\n'\n",
    "      f'Старые значения кредитного скоринга:\\n{ks}')"
   ]
  },
  {
   "cell_type": "code",
   "execution_count": 46,
   "metadata": {
    "scrolled": true
   },
   "outputs": [
    {
     "data": {
      "image/png": "[encoded data removed]",
      "text/plain": [
       "<Figure size 432x288 with 1 Axes>"
      ]
     },
     "metadata": {
      "needs_background": "light"
     },
     "output_type": "display_data"
    }
   ],
   "source": [
    "plt.scatter(zp, ks)\n",
    "plt.plot(zp, 444.1774 + 2.62054 * zp)\n",
    "plt.show()"
   ]
  },
  {
   "cell_type": "code",
   "execution_count": 120,
   "metadata": {},
   "outputs": [
    {
     "name": "stdout",
     "output_type": "stream",
     "text": [
      "Средняя квадратичная ошибка: 64704.1420\n"
     ]
    }
   ],
   "source": [
    "mse = ((ks - y_hat)**2).sum()\n",
    "print(f'Средняя квадратичная ошибка: {mse:.4f}')"
   ]
  },
  {
   "cell_type": "markdown",
   "metadata": {},
   "source": [
    "### Расчитываем матричным способом, без перехвата"
   ]
  },
  {
   "cell_type": "code",
   "execution_count": 121,
   "metadata": {},
   "outputs": [],
   "source": [
    "X = zp.reshape((10,1))\n",
    "y = ks.reshape((10,1))"
   ]
  },
  {
   "cell_type": "code",
   "execution_count": 86,
   "metadata": {},
   "outputs": [],
   "source": [
    "# Добавляем единичный столбец в матрицу, если хотим расчитать коэффициенты с учетом перехвата \n",
    "# В данном случае, я не хочу :)\n",
    "\n",
    "# X = np.hstack([np.ones((10, 1)), X])\n",
    "# X"
   ]
  },
  {
   "cell_type": "code",
   "execution_count": 129,
   "metadata": {},
   "outputs": [
    {
     "name": "stdout",
     "output_type": "stream",
     "text": [
      "Коэффициент b1: 5.889820420132688\n"
     ]
    }
   ],
   "source": [
    "B = np.dot(np.linalg.inv(np.dot(X.T, X)), X.T@y)\n",
    "print(f'Коэффициент b1: {B[0][0]}')"
   ]
  },
  {
   "cell_type": "code",
   "execution_count": 139,
   "metadata": {},
   "outputs": [
    {
     "data": {
      "image/png": "[encoded data removed]",
      "text/plain": [
       "<Figure size 432x288 with 1 Axes>"
      ]
     },
     "metadata": {
      "needs_background": "light"
     },
     "output_type": "display_data"
    }
   ],
   "source": [
    "plt.scatter(zp, ks)\n",
    "plt.plot(zp, zp * 5.88982)\n",
    "plt.show()"
   ]
  },
  {
   "cell_type": "markdown",
   "metadata": {},
   "source": [
    "***\n",
    "## 2. Посчитать коэффициент линейной регрессии при заработной плате (zp), используя градиентный спуск (без intercept).  \n",
    "***\n"
   ]
  },
  {
   "cell_type": "code",
   "execution_count": 61,
   "metadata": {},
   "outputs": [],
   "source": [
    "def mse_(B1, ks=ks, zp=zp, n=10):\n",
    "    return np.sum((B1*zp-ks)**2)"
   ]
  },
  {
   "cell_type": "code",
   "execution_count": 138,
   "metadata": {},
   "outputs": [
    {
     "name": "stdout",
     "output_type": "stream",
     "text": [
      "Iteration: 0, B1=5.9969642, mse=566750.1088463033\n",
      "Iteration: 100, B1=5.896375109542594, mse=565174.5031291789\n",
      "Iteration: 200, B1=5.890221413576391, mse=565168.6063093804\n",
      "Iteration: 300, B1=5.889844951537892, mse=565168.5842401003\n",
      "Iteration: 400, B1=5.889821920880022, mse=565168.5841575043\n",
      "Iteration: 500, B1=5.8898205119432685, mse=565168.5841571952\n",
      "Iteration: 600, B1=5.889820425749345, mse=565168.5841571941\n",
      "Iteration: 700, B1=5.889820420476298, mse=565168.584157194\n",
      "Iteration: 800, B1=5.889820420153708, mse=565168.584157194\n",
      "Iteration: 900, B1=5.889820420133976, mse=565168.5841571941\n"
     ]
    }
   ],
   "source": [
    "alpha = 1e-6\n",
    "B1 = 6\n",
    "n=10\n",
    "\n",
    "for i in range(1000):\n",
    "    B1 -= alpha * (2/n) * np.sum((B1 * zp-ks) * zp)\n",
    "    if i%100 == 0:\n",
    "        print(f'Iteration: {i}, B1={B1}, mse={mse_(B1)}')"
   ]
  },
  {
   "cell_type": "code",
   "execution_count": 78,
   "metadata": {},
   "outputs": [
    {
     "data": {
      "image/png": "[encoded data removed]",
      "text/plain": [
       "<Figure size 432x288 with 1 Axes>"
      ]
     },
     "metadata": {
      "needs_background": "light"
     },
     "output_type": "display_data"
    }
   ],
   "source": [
    "plt.scatter(zp, ks)\n",
    "plt.plot(zp, 5.889820420114845 * zp)\n",
    "plt.show()"
   ]
  },
  {
   "cell_type": "markdown",
   "metadata": {},
   "source": [
    "***\n",
    "## 3. В каких случаях для вычисления доверительных интервалов и проверки статистических гипотез используется таблица значений функции Лапласа, а в каких - таблица критических точек распределения Стьюдента?  \n",
    "***"
   ]
  },
  {
   "cell_type": "markdown",
   "metadata": {},
   "source": [
    "Для вычисления дов. интервалов я использовал либо Z-критерий, либо критерий Стьюдента.  \n",
    "  \n",
    "Значения функции Лапласа я использовал для подсчетов вероятности определенного интервала функции ПЛОТНОСТИ распределения вероятностей, при нормлаьном распределении (4 урок).  \n",
    "  \n",
    "Значения функции Лапласа можно посчитать, когда у нас известна сигма генеральной совокупности. Сами значения варируются от 0 до 0.5 - это вероятность попадания значения случайной величины Х в определенный интервал от Mu до x сигм в любую из сторон  \n",
    "Функция Лапласа принимает в себя расстояние в сигмах от Mu. Причем принимает и доли сигмы, типо 0.12 сигмы от среднего значения.  \n",
    "  \n",
    "Значения Z таблицы тоже высчитываются по сигмам от среднего значения, только это значение является отсечкой, выдавая вероятность попадания случайно величины Х в интервал либо с левой стороны отсечки, либо с правой  \n",
    "  \n",
    "**Для вычисления доверительных интервалов мы используем Z-критерий/функцию Лапласа, когда у нас известна сигма генеральной совокупности**  \n",
    "  \n",
    "**И используем критерий Стьюдента, когда нам известен только размер выборки**"
   ]
  },
  {
   "cell_type": "markdown",
   "metadata": {},
   "source": [
    "***\n",
    "## 4. Произвести вычисления как в пункте 2, но с вычислением intercept. Учесть, что изменение коэффициентов должно производиться на каждом шаге одновременно (то есть изменение одного коэффициента не должно влиять на изменение другого во время одной итерации).\n",
    "***"
   ]
  },
  {
   "cell_type": "code",
   "execution_count": null,
   "metadata": {},
   "outputs": [],
   "source": []
  }
 ],
 "metadata": {
  "kernelspec": {
   "display_name": "Python 3",
   "language": "python",
   "name": "python3"
  },
  "language_info": {
   "codemirror_mode": {
    "name": "ipython",
    "version": 3
   },
   "file_extension": ".py",
   "mimetype": "text/x-python",
   "name": "python",
   "nbconvert_exporter": "python",
   "pygments_lexer": "ipython3",
   "version": "3.8.5"
  }
 },
 "nbformat": 4,
 "nbformat_minor": 4
}
