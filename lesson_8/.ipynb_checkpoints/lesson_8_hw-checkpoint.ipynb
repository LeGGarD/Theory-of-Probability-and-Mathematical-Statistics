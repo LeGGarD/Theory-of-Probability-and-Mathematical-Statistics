{
 "cells": [
  {
   "cell_type": "markdown",
   "metadata": {},
   "source": [
    "# Урок 8. Дисперсионный анализ. Логистическая регрессия\n",
    "\n",
    "***\n",
    "## Провести дисперсионный анализ для определения того, есть ли различия среднего роста среди взрослых футболистов, хоккеистов и штангистов. Даны значения роста в трех группах случайно выбранных спортсменов: Футболисты: 173, 175, 180, 178, 177, 185, 183, 182. Хоккеисты: 177, 179, 180, 188, 177, 172, 171, 184, 180. Штангисты: 172, 173, 169, 177, 166, 180, 178, 177, 172, 166, 170.\n",
    "***"
   ]
  },
  {
   "cell_type": "code",
   "execution_count": 1,
   "metadata": {},
   "outputs": [],
   "source": [
    "import pandas as pd\n",
    "import numpy as np\n",
    "\n",
    "import matplotlib.pyplot as plt\n",
    "%matplotlib inline\n",
    "import seaborn as sns"
   ]
  },
  {
   "cell_type": "code",
   "execution_count": 104,
   "metadata": {},
   "outputs": [
    {
     "data": {
      "text/plain": [
       "<seaborn.axisgrid.FacetGrid at 0x23d4fa78850>"
      ]
     },
     "execution_count": 104,
     "metadata": {},
     "output_type": "execute_result"
    },
    {
     "data": {
      "image/png": "[encoded data removed]",
      "text/plain": [
       "<Figure size 360x360 with 1 Axes>"
      ]
     },
     "metadata": {
      "needs_background": "light"
     },
     "output_type": "display_data"
    }
   ],
   "source": [
    "X1 = np.array([173, 175, 180, 178, 177, 185, 183, 182, np.nan, np.nan, np.nan])\n",
    "X2 = np.array([177, 179, 180, 188, 177, 172, 171, 184, 180, np.nan, np.nan])\n",
    "X3 = np.array([172, 173, 169, 177, 166, 180, 178, 177, 172, 166, 170])\n",
    "\n",
    "X = np.array([X1, X2, X3])\n",
    "\n",
    "data = pd.DataFrame(X.T,\n",
    "                   columns=['football', 'hockey', 'weightlifting'])\n",
    "\n",
    "sns.catplot(data=data, kind='swarm')"
   ]
  },
  {
   "cell_type": "code",
   "execution_count": 69,
   "metadata": {},
   "outputs": [],
   "source": [
    "k = 3 # кол-во групп\n",
    "n = 8 + 9 + 11 # кол-во замеров в целом\n",
    "\n",
    "# средние значения внутри каждой группы\n",
    "y1 = data['football'].mean()\n",
    "y2 = data['hockey'].mean()\n",
    "y3 = data['weightlifting'].mean()\n",
    "\n",
    "# глобальное среднее по всем замерам\n",
    "Y = (data['football'].sum() + data['hockey'].sum() + data['weightlifting'].sum()) / n\n",
    "\n",
    "# S^2 - сумма квадратов отклонений наблюдений от общего среднего\n",
    "data_var = (data - Y) ** 2\n",
    "S2_glob = data_var['football'].sum() + data_var['hockey'].sum() + data_var['weightlifting'].sum()\n",
    "\n",
    "# S^2(F) - сумма квадратов отклонений средних групповых значений от общего среднего значения Y\n",
    "S2_F = ((y1 - Y) ** 2) * 8 + ((y2 - Y) ** 2) * 9 + ((y3 - Y) ** 2) * 11\n",
    "\n",
    "# S^2(remained) - остаточная сумма квадратов отклонений\n",
    "S2_rem = ((data['football'] - y1) ** 2).sum() + ((data['hockey'] - y2) ** 2).sum() + ((data['weightlifting'] - y3) ** 2).sum()\n",
    "\n",
    "# sig^2(F) - факторная дисперсия\n",
    "sig2_F = S2_glob / (k - 1)\n",
    "\n",
    "# sig^2(rem) - остаточная дисперсия\n",
    "sig2_rem = S2_rem / (n - k)\n",
    "\n",
    "# Fh - критерий Фишера\n",
    "Fh = sig2_F / sig2_rem\n",
    "\n",
    "# F_crit - отсечка значений критерия Фишера, для принятия/отклонения нулевой гипотезы\n",
    "# df1 = k - 1 = 2     df2 = n - k = 25\n",
    "F_crit = 2.53"
   ]
  },
  {
   "cell_type": "code",
   "execution_count": 95,
   "metadata": {},
   "outputs": [
    {
     "name": "stdout",
     "output_type": "stream",
     "text": [
      "Кол-во групп: 3\n",
      "Кол-во замеров роста: 28\n",
      "\n",
      "Средний рост футболистов: 179\n",
      "Средний рост хоккеистов: 178\n",
      "Средний рост штангистов: 172\n",
      "Средний рост спортсменов в целом: 176\n",
      "\n",
      "Cумма квадратов отклонений наблюдений от общего среднего: \n",
      "830.9642857142858\n",
      "\n",
      "Cумма квадратов отклонений средних групповых значений от общего среднего: \n",
      "253.9074675324678\n",
      "\n",
      "Остаточная сумма квадратов отклонений: \n",
      "577.0568181818182\n",
      "\n",
      "Факторная дисперсия: 415.4821428571429\n",
      "Остаточная дисперсия: 23.08227272727273\n",
      "\n",
      "Критерий Фишера: 18.00005345081259\n",
      "Критическое значение Фишера: 2.53\n",
      "\n",
      "Вывод: 18.00005345081259 > 2.53, \n",
      "значит вид спорта вносит статистически важную разницу в рост самих спортсменов\n"
     ]
    }
   ],
   "source": [
    "print(f'Кол-во групп: {k}\\n'\n",
    "      f'Кол-во замеров роста: {n}\\n\\n'\n",
    "      f'Средний рост футболистов: {int(y1)}\\n'\n",
    "      f'Средний рост хоккеистов: {int(y2)}\\n'\n",
    "      f'Средний рост штангистов: {int(y3)}\\n'\n",
    "      f'Средний рост спортсменов в целом: {int(Y)}\\n\\n'\n",
    "      f'Cумма квадратов отклонений наблюдений от общего среднего: \\n{S2_glob}\\n\\n'\n",
    "      f'Cумма квадратов отклонений средних групповых значений от общего среднего: \\n{S2_F}\\n\\n'\n",
    "      f'Остаточная сумма квадратов отклонений: \\n{S2_rem}\\n\\n'\n",
    "      f'Факторная дисперсия: {sig2_F}\\n'\n",
    "      f'Остаточная дисперсия: {sig2_rem}\\n\\n'\n",
    "      f'Критерий Фишера: {Fh}\\n'\n",
    "      f'Критическое значение Фишера: {F_crit}\\n\\n'\n",
    "      f'Вывод: {Fh} > {F_crit}, \\nзначит вид спорта вносит статистически важную разницу в рост самих спортсменов')"
   ]
  }
 ],
 "metadata": {
  "kernelspec": {
   "display_name": "Python 3",
   "language": "python",
   "name": "python3"
  },
  "language_info": {
   "codemirror_mode": {
    "name": "ipython",
    "version": 3
   },
   "file_extension": ".py",
   "mimetype": "text/x-python",
   "name": "python",
   "nbconvert_exporter": "python",
   "pygments_lexer": "ipython3",
   "version": "3.8.5"
  }
 },
 "nbformat": 4,
 "nbformat_minor": 4
}
