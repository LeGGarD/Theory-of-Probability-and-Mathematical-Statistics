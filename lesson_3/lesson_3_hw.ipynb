{
 "cells": [
  {
   "cell_type": "markdown",
   "metadata": {},
   "source": [
    "# Урок 3"
   ]
  },
  {
   "cell_type": "code",
   "execution_count": 138,
   "metadata": {},
   "outputs": [],
   "source": [
    "import numpy as np  # was used to check manually counted answers\n",
    "from math import factorial"
   ]
  },
  {
   "cell_type": "code",
   "execution_count": 139,
   "metadata": {},
   "outputs": [],
   "source": [
    "def comb(n, k):\n",
    "    return factorial(n) / (factorial(k) * factorial(n - k))"
   ]
  },
  {
   "cell_type": "markdown",
   "metadata": {},
   "source": [
    "### 1. Даны значения зарплат из выборки выпускников: 100, 80, 75, 77, 89, 33, 45, 25, 65, 17, 30, 24, 57, 55, 70, 75, 65, 84, 90, 150. Посчитать (желательно без использования статистических методов наподобие std, var, mean) среднее арифметическое, среднее квадратичное отклонение, смещенную и несмещенную оценки дисперсий для данной выборки."
   ]
  },
  {
   "cell_type": "code",
   "execution_count": 140,
   "metadata": {},
   "outputs": [
    {
     "name": "stdout",
     "output_type": "stream",
     "text": [
      "5.0\n"
     ]
    }
   ],
   "source": [
    "print(math.sqrt(25))"
   ]
  },
  {
   "cell_type": "code",
   "execution_count": 141,
   "metadata": {},
   "outputs": [],
   "source": [
    "a = [100, 80, 75, 77, 89, 33, 45, 25, 65, 17, 30, 24, 57, 55, 70, 75, 65, 84, 90, 150]"
   ]
  },
  {
   "cell_type": "code",
   "execution_count": 142,
   "metadata": {
    "scrolled": false
   },
   "outputs": [
    {
     "name": "stdout",
     "output_type": "stream",
     "text": [
      "mean - 65.3\n"
     ]
    }
   ],
   "source": [
    "mean_a = sum(a) / len(a)\n",
    "print(f'mean - {mean_a}')"
   ]
  },
  {
   "cell_type": "code",
   "execution_count": 143,
   "metadata": {},
   "outputs": [
    {
     "name": "stdout",
     "output_type": "stream",
     "text": [
      "variance - 950.11\n"
     ]
    }
   ],
   "source": [
    "a_sorted = a.copy()\n",
    "a_sorted.sort()\n",
    "\n",
    "a_temp = [el - mean_a for el in a_sorted]\n",
    "\n",
    "a_temp2 = [el ** 2 for el in a_temp]\n",
    "\n",
    "var_a = sum(a_temp2) / len(a)\n",
    "\n",
    "print(f'variance - {var_a}')"
   ]
  },
  {
   "cell_type": "code",
   "execution_count": 144,
   "metadata": {},
   "outputs": [
    {
     "name": "stdout",
     "output_type": "stream",
     "text": [
      "standard diviation - 30.823854398825596\n"
     ]
    }
   ],
   "source": [
    "print(f'standard diviation - {math.sqrt(var_a)}')"
   ]
  },
  {
   "cell_type": "code",
   "execution_count": 145,
   "metadata": {},
   "outputs": [
    {
     "name": "stdout",
     "output_type": "stream",
     "text": [
      "not displaced variance - 1000.1157894736842\n"
     ]
    }
   ],
   "source": [
    "var_a_not_displaced = sum(a_temp2) / (len(a) - 1)\n",
    "print(f'not displaced variance - {var_a_not_displaced}')"
   ]
  },
  {
   "cell_type": "markdown",
   "metadata": {},
   "source": [
    "Среднее арифметическое - 65.3<br>\n",
    "Среднее квадратичное отклонение - 30.82<br>\n",
    "Дисперсия - 950.11<br>\n",
    "Несмещенная дисперсия - 1000.12"
   ]
  },
  {
   "cell_type": "markdown",
   "metadata": {},
   "source": [
    "### 2. В первом ящике находится 8 мячей, из которых 5 - белые. Во втором ящике - 12 мячей, из которых 5 белых. Из первого ящика вытаскивают случайным образом два мяча, из второго - 4. Какова вероятность того, что 3 мяча белые?"
   ]
  },
  {
   "cell_type": "code",
   "execution_count": 146,
   "metadata": {},
   "outputs": [
    {
     "name": "stdout",
     "output_type": "stream",
     "text": [
      "0.12626262626262627 0.22727272727272727 0.01515151515151515 0.3686868686868687\n"
     ]
    }
   ],
   "source": [
    "p1 =                            (5/8 * 4/7) * (comb(5, 1) * comb(7, 3) / comb(12, 4))\n",
    "p2 = (comb(5, 1) * comb(3, 1) / comb(8, 2)) * (comb(5, 2) * comb(7, 2) / comb(12, 4))\n",
    "p3 =                            (3/8 * 2/7) * (comb(5, 3) * comb(7, 1) / comb(12, 4))\n",
    "\n",
    "p = p1 + p2 + p3\n",
    "\n",
    "print(p1, p2, p3, p)"
   ]
  },
  {
   "cell_type": "markdown",
   "metadata": {},
   "source": [
    "**Вероятность что 3 из 6 вытянутых мячей белые - 36.9%**"
   ]
  },
  {
   "cell_type": "markdown",
   "metadata": {},
   "source": [
    "<img src='./img_l3/2.jpg' style='width: 600px;'>"
   ]
  },
  {
   "cell_type": "markdown",
   "metadata": {},
   "source": [
    "### 3. На соревновании по биатлону один из трех спортсменов стреляет и попадает в мишень. Вероятность попадания для первого спортсмена равна 0.9, для второго — 0.8, для третьего — 0.6. Найти вероятность того, что выстрел произведен: a). первым спортсменом б). вторым спортсменом в). третьим спортсменом."
   ]
  },
  {
   "cell_type": "code",
   "execution_count": 147,
   "metadata": {},
   "outputs": [
    {
     "name": "stdout",
     "output_type": "stream",
     "text": [
      "0.7666666666666666 0.391304347826087 0.3478260869565218 0.26086956521739135\n"
     ]
    }
   ],
   "source": [
    "p_a = 1/3 * 9/10 + 1/3 * 8/10 + 1/3 * 6/10\n",
    "\n",
    "p_ab1 = 1/3 * 9/10 / p_a\n",
    "p_ab2 = 1/3 * 8/10 / p_a\n",
    "p_ab3 = 1/3 * 6/10 / p_a\n",
    "\n",
    "print(p_a, p_ab1, p_ab2, p_ab3)"
   ]
  },
  {
   "cell_type": "markdown",
   "metadata": {},
   "source": [
    "Вероятность, что попавший выстрел произведен:<br>\n",
    "а) первым спортсменом - **39.1%**<br>\n",
    "б) вторым спортсменом - **34.8%**<br>\n",
    "в) третьим спортсменом - **26.1%**"
   ]
  },
  {
   "cell_type": "markdown",
   "metadata": {},
   "source": [
    "<img src='./img_l3/3.jpg' style='width: 600px;'>"
   ]
  },
  {
   "cell_type": "markdown",
   "metadata": {},
   "source": [
    "### 4. В университет на факультеты A и B поступило равное количество студентов, а на факультет C студентов поступило столько же, сколько на A и B вместе. Вероятность того, что студент факультета A сдаст первую сессию, равна 0.8. Для студента факультета B эта вероятность равна 0.7, а для студента факультета C - 0.9. Студент сдал первую сессию. Какова вероятность, что он учится: a). на факультете A б). на факультете B в). на факультете C?"
   ]
  },
  {
   "cell_type": "code",
   "execution_count": 148,
   "metadata": {},
   "outputs": [
    {
     "name": "stdout",
     "output_type": "stream",
     "text": [
      "0.825 0.24242424242424246 0.21212121212121213 0.5454545454545455\n"
     ]
    }
   ],
   "source": [
    "p_a = 1/4 * 8/10 + 1/4 * 7/10 + 2/4 * 9/10\n",
    "\n",
    "p_ab1 = 1/4 * 8/10 / p_a\n",
    "p_ab2 = 1/4 * 7/10 / p_a\n",
    "p_ab3 = 1/2 * 9/10 / p_a\n",
    "\n",
    "print(p_a, p_ab1, p_ab2, p_ab3)"
   ]
  },
  {
   "cell_type": "markdown",
   "metadata": {},
   "source": [
    "Вероятность того, что сдавший первую сессию студент:<br>\n",
    "а) на факультете А - **24.2%**<br>\n",
    "б) на факультете В - **21.2%**<br>\n",
    "в) на факультете С - **54.5%**"
   ]
  },
  {
   "cell_type": "markdown",
   "metadata": {},
   "source": [
    "<img src='./img_l3/4.jpg' style='width: 600px;'>"
   ]
  },
  {
   "cell_type": "markdown",
   "metadata": {},
   "source": [
    "### 5. Устройство состоит из трех деталей. Для первой детали вероятность выйти из строя в первый месяц равна 0.1, для второй - 0.2, для третьей - 0.25. Какова вероятность того, что в первый месяц выйдут из строя: а). все детали б). только две детали в). хотя бы одна деталь г). от одной до двух деталей?"
   ]
  },
  {
   "cell_type": "markdown",
   "metadata": {},
   "source": [
    "### а)"
   ]
  },
  {
   "cell_type": "code",
   "execution_count": 149,
   "metadata": {},
   "outputs": [
    {
     "name": "stdout",
     "output_type": "stream",
     "text": [
      "Вероятность что все детали сломаются:\n",
      "0.005000000000000001\n"
     ]
    }
   ],
   "source": [
    "p = 0.1 * 0.2 * 0.25\n",
    "\n",
    "print(f'Вероятность что все детали сломаются:\\n{p}')"
   ]
  },
  {
   "cell_type": "markdown",
   "metadata": {},
   "source": [
    "### б)"
   ]
  },
  {
   "cell_type": "code",
   "execution_count": 150,
   "metadata": {},
   "outputs": [
    {
     "name": "stdout",
     "output_type": "stream",
     "text": [
      "Вероятность что две детали сломаются:\n",
      "0.08\n"
     ]
    }
   ],
   "source": [
    "p1 = 1/10 * 2/10 * 3/4\n",
    "p2 = 1/10 * 8/10 * 1/4\n",
    "p3 = 9/10 * 2/10 * 1/4\n",
    "\n",
    "p = p1 + p2 + p3\n",
    "\n",
    "print(f'Вероятность что две детали сломаются:\\n{p}')"
   ]
  },
  {
   "cell_type": "markdown",
   "metadata": {},
   "source": [
    "### в)"
   ]
  },
  {
   "cell_type": "code",
   "execution_count": 151,
   "metadata": {},
   "outputs": [
    {
     "name": "stdout",
     "output_type": "stream",
     "text": [
      "Вероятность что ни одна деталь не сломается:\n",
      "0.54\n"
     ]
    }
   ],
   "source": [
    "# тут р - это вероятность того что все детали НЕ сломаются\n",
    "p = 0.9 * 0.8 * 0.75\n",
    "\n",
    "print(f'Вероятность что ни одна деталь не сломается:\\n{p}')"
   ]
  },
  {
   "cell_type": "markdown",
   "metadata": {},
   "source": [
    "### г)"
   ]
  },
  {
   "cell_type": "code",
   "execution_count": 152,
   "metadata": {},
   "outputs": [
    {
     "name": "stdout",
     "output_type": "stream",
     "text": [
      "Вероятность что одна-две детали сломаются:\n",
      "0.455\n"
     ]
    }
   ],
   "source": [
    "p11 = 1/10 * 8/10 * 3/4\n",
    "p12 = 9/10 * 2/10 * 3/4\n",
    "p13 = 9/10 * 8/10 * 1/4\n",
    "\n",
    "p1 = p11 + p12 + p13\n",
    "p2 = 0.08\n",
    "\n",
    "p = p1 + p2\n",
    "\n",
    "print(f'Вероятность что одна-две детали сломаются:\\n{p}')"
   ]
  },
  {
   "cell_type": "code",
   "execution_count": 153,
   "metadata": {},
   "outputs": [
    {
     "name": "stdout",
     "output_type": "stream",
     "text": [
      "Проверка:\n",
      "от единицы отнимает вероятность, что все детали уцелеют,\n",
      "сравниваем суммой вероятности того, что все детали сломаются\n",
      "и вероятностью что 1-2 детали сломаются\n",
      "1 - в) = а) + г)\n",
      "0.45999999999999996 = 0.46\n"
     ]
    }
   ],
   "source": [
    "print(f'Проверка:\\nот единицы отнимает вероятность, что все детали уцелеют,\\n\\\n",
    "сравниваем суммой вероятности того, что все детали сломаются\\n\\\n",
    "и вероятностью что 1-2 детали сломаются\\n\\\n",
    "1 - в) = а) + г)\\n\\\n",
    "{1 - 0.54} = {0.005 + 0.455}')"
   ]
  },
  {
   "cell_type": "markdown",
   "metadata": {},
   "source": [
    "а) Вероятность что все детали сломаются - **0.005**<br>\n",
    "б) вероятность что две детали сломаются - **0.08**<br><br>\n",
    "_вероятность что одна деталь сломается - **0.375**_<br><br>\n",
    "г) вероятность что одна-две детали сломаются - **0.455**<br><br>\n",
    "в) вероятность того, что ни одна не сломается - **0.54** (1 - 0.455 + 0.005)<br>"
   ]
  },
  {
   "cell_type": "markdown",
   "metadata": {},
   "source": [
    "<img src='./img_l3/5.jpg' style='width: 100%;'>"
   ]
  }
 ],
 "metadata": {
  "kernelspec": {
   "display_name": "Python 3",
   "language": "python",
   "name": "python3"
  },
  "language_info": {
   "codemirror_mode": {
    "name": "ipython",
    "version": 3
   },
   "file_extension": ".py",
   "mimetype": "text/x-python",
   "name": "python",
   "nbconvert_exporter": "python",
   "pygments_lexer": "ipython3",
   "version": "3.8.5"
  }
 },
 "nbformat": 4,
 "nbformat_minor": 4
}
