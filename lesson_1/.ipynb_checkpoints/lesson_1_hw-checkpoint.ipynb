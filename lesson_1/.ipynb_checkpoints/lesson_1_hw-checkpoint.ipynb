{
 "cells": [
  {
   "cell_type": "markdown",
   "metadata": {},
   "source": [
    " # Случайные события. Условная вероятность. Формула Байеса. Независимые испытания"
   ]
  },
  {
   "cell_type": "markdown",
   "metadata": {},
   "source": [
    "### 1. Из колоды в 52 карты извлекаются случайным образом 4 карты. \n",
    "a) Найти вероятность того, что все карты – крести.<br>\n",
    "б) Найти вероятность, что среди 4-х карт окажется хотя бы один туз."
   ]
  },
  {
   "cell_type": "markdown",
   "metadata": {},
   "source": [
    "----------------------------------------------------------------------------------<br>\n",
    "<pre>\n",
    "B1 - из 52 карт вытягиваем крести, P(B1) = 13/52\n",
    "(либо 1/4, так как если колода без джокеров, статистическая вероятность вытянуть крести такова)\n",
    "B2 - из 51 карты вытягиваем крести, P(B2|B1) = 12/51 (так как уже на 1 карту крести меньше в колоде)\n",
    "B3 - из 50 карт вытягиваем крести, P(B3|B2) = 11/50\n",
    "B4 - из 49 карт вытягиваем крести, P(B4|B3) = 10/49\n",
    "\n",
    "P(A) - вытягиваем 4 крести подряд<br>\n",
    "P(A) = 13/52 * 12/51 * 11/50 * 10/49 = 0.26410564225690275% ≈ 0.26%\n",
    "\n",
    "Шанс вытянуть 4 крести подряд - 0.26%\n",
    "Шанс вытянуть 3 крести подряд - 1.3%\n",
    "Шанс вытянуть 2 крести подряд - 5.8%\n",
    "Шанс вытянуть крести из колоды - 25%\n",
    "</pre>"
   ]
  },
  {
   "cell_type": "markdown",
   "metadata": {},
   "source": [
    "----------------------------------------------------------------------------------<br>\n",
    "<pre>\n",
    "А - there is one or more aces in a combination of 4 cards from 52 cards deck\n",
    "\n",
    "P(A) - ?\n",
    "\n",
    "CS - all satisfying combinations \n",
    "CP - all possible combinations\n",
    "\n",
    "P(A) = CS/CP\n",
    "\n",
    "CP = 52!/4!(52-4)! = 270725\n",
    "\n",
    "C1 - all possible combinations when 1 ace drops\n",
    "C2 - all possible combinations when 2 aces drops\n",
    "C3 - all possible combinations when 3 aces drops\n",
    "C4 - all possible combinations when 4 aces drops\n",
    "\n",
    "CS = C1 + C2 + C3 + C4\n",
    "\n",
    "C1 = 4!/1!(4-1)! * 48!/3!(52-3)! = <b>69184</b>  (all combinations of 1 ace drop multiplyied by all combinations of any 3 cards left)\n",
    " C2 = 4!/2!(4-2)! * 48!/2!(52-2)! = <b>6768</b>  (all combinations of 2 aces drop multiplyied by all combinations of any 2 cards left)\n",
    "  C3 = 4!/3!(4-3)! * 48!/1!(52-1)! = <b>192</b>  (all combinations of 3 aces drop multiplyied by all combinations of any 1 cards left)\n",
    "                                  C4 = <b>1</b>  (there is the only one combination of all aces drop)\n",
    "\n",
    "CS = 69184 + 6768 + 192 + 1 = 76145\n",
    "\n",
    "P(A) = 76145/270725 = 28.12%\n",
    "\n",
    "Therefore chance of dropping one or more aces is 28.12%\n",
    "</pre>"
   ]
  },
  {
   "cell_type": "markdown",
   "metadata": {},
   "source": [
    "### 2. На входной двери подъезда установлен кодовый замок, содержащий десять кнопок с цифрами от 0 до 9. \n",
    "Код содержит три цифры, которые нужно нажать одновременно. <br>\n",
    "Какова вероятность того, что человек, не знающий код, откроет дверь с первой попытки?"
   ]
  },
  {
   "cell_type": "markdown",
   "metadata": {},
   "source": [
    "<pre>A - человек открывает с первой попытки замок, нажав 3 кнопки из 10\n",
    "\n",
    "Если <u>последовательность</u> нажатий цифр <u><b>не имеет</b> значения</u>:\n",
    "\n",
    "C = 10!/3!(10-3)! = 150\n",
    "P(A) = <b>1/150</b>\n",
    "\n",
    "Если <u>последовательность</u> нажатий <u><b>имеет</b> значение</u>:\n",
    "\n",
    "A = 10!/(10-3)! = 720\n",
    "P(A) = <b>1/720</b>\n",
    "\n",
    "\n",
    "Если бы человеку нужно было бы <u>нажать 4 цифры</u> - <u>безопасность</u> замка очевидно <u>выросла</u> бы:\n",
    "\n",
    "С = 10!/4!(10-4)! = 210\n",
    "P(A) = <b>1/210</b>\n",
    "\n",
    "Но <u><b>значительно</b> она бы выросла</u>, если бы еще и <u><b>последовательность</b></u> нажатий <u>имела значение</u>:\n",
    "\n",
    "А = 10!/(10-4)! = 5040\n",
    "P(A) = <b>1/5040</b>\n",
    "\n",
    "\n",
    "</pre>"
   ]
  },
  {
   "cell_type": "markdown",
   "metadata": {},
   "source": [
    "### 3. В ящике имеется 15 деталей, из которых 9 окрашены. \n",
    "Рабочий случайным образом извлекает 3 детали. <br>\n",
    "Какова вероятность того, что все извлеченные детали окрашены?"
   ]
  },
  {
   "cell_type": "markdown",
   "metadata": {},
   "source": [
    "<pre>A - извлекается 3 окрашенные детали подряд\n",
    "\n",
    "P(B1) = 9/15\n",
    "P(B2|B1) = 8/14\n",
    "P(B3|B2) = 7/13\n",
    "\n",
    "P(A) = P(B1)*P(B2|B1)*P(B3|B2) = 12/65 = 18.46%\n",
    "</pre>"
   ]
  },
  {
   "cell_type": "markdown",
   "metadata": {},
   "source": [
    "### 4. В лотерее 100 билетов. \n",
    "Из них 2 выигрышных. <br>\n",
    "Какова вероятность того, что 2 приобретенных билета окажутся выигрышными?"
   ]
  },
  {
   "cell_type": "markdown",
   "metadata": {},
   "source": [
    "<pre>A - извлекается 2 выигрышных билета подряд\n",
    "\n",
    "P(B1) = 2/100 = 1/50\n",
    "P(B2|B1) = 1/99\n",
    "\n",
    "P(A) = P(B1)*P(B2|B1) = 1/50 * 1/99 = 0.02%\n",
    "</pre>"
   ]
  }
 ],
 "metadata": {
  "kernelspec": {
   "display_name": "Python 3",
   "language": "python",
   "name": "python3"
  },
  "language_info": {
   "codemirror_mode": {
    "name": "ipython",
    "version": 3
   },
   "file_extension": ".py",
   "mimetype": "text/x-python",
   "name": "python",
   "nbconvert_exporter": "python",
   "pygments_lexer": "ipython3",
   "version": "3.8.5"
  }
 },
 "nbformat": 4,
 "nbformat_minor": 4
}
