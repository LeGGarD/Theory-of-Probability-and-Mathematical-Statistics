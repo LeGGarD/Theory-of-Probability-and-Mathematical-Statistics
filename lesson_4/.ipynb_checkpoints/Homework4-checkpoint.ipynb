{
 "cells": [
  {
   "cell_type": "markdown",
   "metadata": {},
   "source": [
    "#### Задание 1.\n",
    "\n",
    "Случайная непрерывная величина A имеет равномерное распределение на промежутке (200, 800].\n",
    "Найдите ее среднее значение и дисперсию."
   ]
  },
  {
   "cell_type": "code",
   "execution_count": 1,
   "metadata": {},
   "outputs": [
    {
     "name": "stdout",
     "output_type": "stream",
     "text": [
      "500.0 30000.0\n"
     ]
    }
   ],
   "source": [
    "a = 200\n",
    "b = 800\n",
    "mu = (a+b)/2\n",
    "D = (b-a)**2/12\n",
    "print(mu, D)"
   ]
  },
  {
   "cell_type": "markdown",
   "metadata": {},
   "source": [
    "#### Задание 2.\n",
    "\n",
    "О случайной непрерывной равномерно распределенной величине B известно, что ее дисперсия равна 0.2.\n",
    "Можно ли найти правую границу величины B и ее среднее значение зная, что левая граница равна 0.5?\n",
    "Если да, найдите ее."
   ]
  },
  {
   "cell_type": "markdown",
   "metadata": {},
   "source": [
    "$$a=0.5, D=\\frac{(b-a)^{2}}{12}=0.2$$\n",
    "Решим уравнение:\n",
    "\n",
    "$$b^{2}-b-2.15=0$$\n",
    "\n",
    "Получим:\n",
    "\n",
    "$$b_{1}\\approx-1.049, b_{2}\\approx2.049$$\n",
    "\n",
    "Так как b - правая граница, она должна быть больше 0.5. Соответственно $b=2.049$"
   ]
  },
  {
   "cell_type": "code",
   "execution_count": 2,
   "metadata": {},
   "outputs": [
    {
     "name": "stdout",
     "output_type": "stream",
     "text": [
      "1.2745\n"
     ]
    }
   ],
   "source": [
    "a = 0.5\n",
    "b = 2.049\n",
    "mu = (a+b)/2\n",
    "print(mu)"
   ]
  },
  {
   "cell_type": "markdown",
   "metadata": {},
   "source": [
    "#### Задание 3.\n",
    "\n",
    "Непрерывная случайная величина X распределена нормально и задана плотностью распределения\n",
    "\n",
    "$$f(x) = \\frac{1}{4\\sqrt{2\\pi}}e^{-\\frac{(x+2)^{2}}{32}}$$\n",
    "\n",
    "Найдите:\n",
    "\n",
    "а). M(X)\n",
    "\n",
    "б). D(X)\n",
    "\n",
    "в). std(X) (среднее квадратичное отклонение)"
   ]
  },
  {
   "cell_type": "markdown",
   "metadata": {},
   "source": [
    "M(X) = -2\n",
    "\n",
    "D(X) = 16\n",
    "\n",
    "std(X) = 4"
   ]
  },
  {
   "cell_type": "markdown",
   "metadata": {},
   "source": [
    "#### Задание 4.\n",
    "\n",
    "Рост взрослого населения города X имеет нормальное распределение.\n",
    "Причем, средний рост равен 174 см, а среднее квадратичное отклонение равно 8 см.\n",
    "Какова вероятность того, что случайным образом выбранный взрослый человек имеет рост:\n",
    "\n",
    "а). больше 182 см\n",
    "\n",
    "б). больше 190 см\n",
    "\n",
    "в). от 166 см до 190 см\n",
    "\n",
    "г). от 166 см до 182 см\n",
    "\n",
    "д). от 158 см до 190 см\n",
    "\n",
    "е). не выше 150 см или не ниже 190 см\n",
    "\n",
    "ё). не выше 150 см или не ниже 198 см\n",
    "\n",
    "ж). ниже 166 см."
   ]
  },
  {
   "cell_type": "code",
   "execution_count": 3,
   "metadata": {},
   "outputs": [
    {
     "name": "stdout",
     "output_type": "stream",
     "text": [
      "-3.0 -2.0 -1.0 1.0 2.0 3.0\n"
     ]
    }
   ],
   "source": [
    "# найдем для каждого представленного роста уровень отклонения от среднего в стандартных отклонениях\n",
    "\n",
    "a = (150-174)/8\n",
    "b = (158-174)/8\n",
    "c = (166-174)/8\n",
    "d = (182-174)/8\n",
    "e = (190-174)/8\n",
    "f = (198-174)/8\n",
    "print(a, b, c, d, e, f)"
   ]
  },
  {
   "cell_type": "code",
   "execution_count": 4,
   "metadata": {},
   "outputs": [
    {
     "data": {
      "text/plain": [
       "16.0"
      ]
     },
     "execution_count": 4,
     "metadata": {},
     "output_type": "execute_result"
    }
   ],
   "source": [
    "# a) больше 182 см - больше 1 сигмы:\n",
    "\n",
    "p1 = 100-50-68/2\n",
    "p1"
   ]
  },
  {
   "cell_type": "code",
   "execution_count": 5,
   "metadata": {},
   "outputs": [
    {
     "data": {
      "text/plain": [
       "2.299999999999997"
      ]
     },
     "execution_count": 5,
     "metadata": {},
     "output_type": "execute_result"
    }
   ],
   "source": [
    "# б) больше 190 см - больше 2-х сигм. Вероятность также равна вероятности меньше -2-х сигм:\n",
    "\n",
    "p2 = 100 - 50 - 95.4/2\n",
    "p2"
   ]
  },
  {
   "cell_type": "code",
   "execution_count": 6,
   "metadata": {},
   "outputs": [
    {
     "data": {
      "text/plain": [
       "81.7"
      ]
     },
     "execution_count": 6,
     "metadata": {},
     "output_type": "execute_result"
    }
   ],
   "source": [
    "# в) от 166 см до 190 см - от -1 сигмы до 2-х сигм:\n",
    "\n",
    "p3 = 68 + (95.4-68)/2\n",
    "p3"
   ]
  },
  {
   "cell_type": "code",
   "execution_count": 7,
   "metadata": {},
   "outputs": [],
   "source": [
    "# г) от 166 см до 182 см - от -1 сигмы до 1 сигмы:\n",
    "\n",
    "p4 = 68"
   ]
  },
  {
   "cell_type": "code",
   "execution_count": 8,
   "metadata": {},
   "outputs": [],
   "source": [
    "# д) от 158 см до 190 см - от -2х сигм до 2-х сигм:\n",
    "\n",
    "p5 = 95.4"
   ]
  },
  {
   "cell_type": "code",
   "execution_count": 9,
   "metadata": {},
   "outputs": [
    {
     "data": {
      "text/plain": [
       "2.4399999999999977"
      ]
     },
     "execution_count": 9,
     "metadata": {},
     "output_type": "execute_result"
    }
   ],
   "source": [
    "# е) не выше 150 см или не ниже 190 см - менее -3-х сигм или более 2-х сигм:\n",
    "\n",
    "p6 = 50-99.72/2 + 100-50-95.4/2\n",
    "p6"
   ]
  },
  {
   "cell_type": "code",
   "execution_count": 10,
   "metadata": {},
   "outputs": [
    {
     "data": {
      "text/plain": [
       "0.28000000000000114"
      ]
     },
     "execution_count": 10,
     "metadata": {},
     "output_type": "execute_result"
    }
   ],
   "source": [
    "# ё) не выше 150 см или не ниже 198 см - менее -3-х сигм или более 3-х сигм:\n",
    "\n",
    "p7 = 100 - 99.72\n",
    "p7"
   ]
  },
  {
   "cell_type": "code",
   "execution_count": 11,
   "metadata": {},
   "outputs": [
    {
     "data": {
      "text/plain": [
       "16.0"
      ]
     },
     "execution_count": 11,
     "metadata": {},
     "output_type": "execute_result"
    }
   ],
   "source": [
    "# ж). ниже 166 см - меньше -1 сигмы\n",
    "\n",
    "p8 = 100-50-68/2\n",
    "p8"
   ]
  },
  {
   "cell_type": "markdown",
   "metadata": {},
   "source": [
    "#### Задание 5.\n",
    "\n",
    "На сколько сигм (средних квадратичных отклонений) отклоняется рост человека, равный 190 см, от\n",
    "математического ожидания роста в популяции, в которой M(X) = 178 см и D(X) = 25 кв.см?"
   ]
  },
  {
   "cell_type": "code",
   "execution_count": 12,
   "metadata": {},
   "outputs": [
    {
     "data": {
      "text/plain": [
       "2.4"
      ]
     },
     "execution_count": 12,
     "metadata": {},
     "output_type": "execute_result"
    }
   ],
   "source": [
    "import numpy as np\n",
    "\n",
    "M = 178\n",
    "D = 25\n",
    "x = 190\n",
    "deviation = (x-M)/np.sqrt(D)\n",
    "deviation"
   ]
  }
 ],
 "metadata": {
  "kernelspec": {
   "display_name": "Python 3",
   "language": "python",
   "name": "python3"
  },
  "language_info": {
   "codemirror_mode": {
    "name": "ipython",
    "version": 3
   },
   "file_extension": ".py",
   "mimetype": "text/x-python",
   "name": "python",
   "nbconvert_exporter": "python",
   "pygments_lexer": "ipython3",
   "version": "3.8.5"
  }
 },
 "nbformat": 4,
 "nbformat_minor": 4
}
