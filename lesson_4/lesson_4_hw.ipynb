{
 "cells": [
  {
   "cell_type": "markdown",
   "metadata": {},
   "source": [
    "#### Сильно затянул со сдачей этого урока, потому что решил углубиться в теоретическую базу и изучал эти статьи:  \n",
    "http://mathprofi.ru/nesobstvennye_integraly.html\n",
    "http://mathprofi.ru/kak_issledovat_shodimost_nesobstvennogo_integrala.html\n",
    "http://mathprofi.ru/sluchainaya_velichina.html\n",
    "http://mathprofi.ru/funkcia_raspredeleniya_dsv.html\n",
    "http://mathprofi.ru/geometricheskoe_raspredelenie_veroyatnostei.html\n",
    "http://mathprofi.ru/binomialnoe_raspredelenie_veroyatnostei.html\n",
    "http://mathprofi.ru/raspredelenie_i_formula_puassona.html\n",
    "http://mathprofi.ru/lokalnaja_i_integralnaja_teoremy_laplasa.html\n",
    "http://mathprofi.ru/gipergeometricheskoe_raspredelenie_veroyatnostei.html\n",
    "http://mathprofi.ru/nepreryvnaya_sluchaynaya_velichina.html\n",
    "http://mathprofi.ru/ravnomernoe_raspredelenie_veroyatnostei.html\n",
    "http://mathprofi.ru/pokazatelnoe_raspredelenie_veroyatnostei.html\n",
    "http://mathprofi.ru/normalnoe_raspredelenie_veroyatnostei.html\n",
    "\n",
    "и несколько других. "
   ]
  },
  {
   "cell_type": "markdown",
   "metadata": {},
   "source": [
    "# Урок 4\n",
    "## Непрерывные случайные величины. Функция распределения и плотность распределения вероятностей. Равномерное и нормальное распределение. Центральная предельная теорема"
   ]
  },
  {
   "cell_type": "markdown",
   "metadata": {},
   "source": [
    "***\n",
    "### 1. Случайная непрерывная величина A имеет равномерное распределение на промежутке (200, 800].\n",
    "Найдите ее среднее значение и дисперсию.\n",
    "***\n",
    "\n"
   ]
  },
  {
   "cell_type": "markdown",
   "metadata": {},
   "source": [
    "M(X) = 200 + 800 / 2 = 500  \n",
    "D(X) = (800 - 200)^2 / 12 = 30000"
   ]
  },
  {
   "cell_type": "markdown",
   "metadata": {},
   "source": [
    "***\n",
    "### 2. О случайной непрерывной равномерно распределенной величине B известно, что ее дисперсия равна 0.2.\n",
    "Можно ли найти правую границу величины B и ее среднее значение зная, что левая граница равна 0.5?\n",
    "Если да, найдите ее.\n",
    "***\n"
   ]
  },
  {
   "cell_type": "markdown",
   "metadata": {},
   "source": [
    "D(X) = 0.2 = (b - 0.5)^2 / 12  \n",
    "2.4 = b^2 - b + 0.25  \n",
    "b^2 - b - 2.15 = 0  \n",
    "  \n",
    "b1 = -1.049  \n",
    "b2 = 2.049  \n",
    "  \n",
    "Так как левая граница у нас 0.5, правая должна быть больше, значит она равна 2.05  \n",
    "  \n",
    "M(X) = 0.5 + 2.05 / 2 = 1.275  "
   ]
  },
  {
   "cell_type": "markdown",
   "metadata": {},
   "source": [
    "***\n",
    "### 3. Непрерывная случайная величина X распределена нормально и задана плотностью распределения   $f(x) = \\frac{1}{4\\sqrt{2\\pi}}e^{-\\frac{(x+2)^{2}}{32}}$ Найдите:  \n",
    "а). M(X)  \n",
    "б). D(X)  \n",
    "в). std(X) (среднее квадратичное отклонение)  \n",
    "***"
   ]
  },
  {
   "cell_type": "markdown",
   "metadata": {},
   "source": [
    "а)  М(Х) = 2 (мат. ожидание/ \"а\" после икса в скобках)  \n",
    "б)  D(X) = 16 (дисперсия/ сигма перед корнем из двух пи)  \n",
    "в)  std(X) = 4  "
   ]
  },
  {
   "cell_type": "markdown",
   "metadata": {},
   "source": [
    "***\n",
    "### 4. Рост взрослого населения города X имеет нормальное распределение.\n",
    "Причем, средний рост равен 174 см, а среднее квадратичное отклонение равно 8 см.\n",
    "Какова вероятность того, что случайным образом выбранный взрослый человек имеет рост:\n",
    "а). больше 182 см\n",
    "б). больше 190 см\n",
    "в). от 166 см до 190 см\n",
    "г). от 166 см до 182 см\n",
    "д). от 158 см до 190 см\n",
    "е). не выше 150 см или не ниже 190 см\n",
    "ё). не выше 150 см или не ниже 198 см\n",
    "ж). ниже 166 см.\n",
    "***\n"
   ]
  },
  {
   "cell_type": "markdown",
   "metadata": {},
   "source": [
    "<img src='./img_l4/1.jpg' style='width: 600px;'>"
   ]
  },
  {
   "cell_type": "markdown",
   "metadata": {},
   "source": [
    "Конечно тут очень красиво все, только с ровными отклонениями на сигму, можно было в уме считать. Но я хотел закрепить понимания применения теоремы Лапласа (сами значения функции считал через формулу в Экселе, хотя можно было табличкой еще пользоваться)"
   ]
  },
  {
   "cell_type": "markdown",
   "metadata": {},
   "source": [
    "***\n",
    "### 5. На сколько сигм (средних квадратичных отклонений) отклоняется рост человека, равный 190 см, от математического ожидания роста в популяции, в которой M(X) = 178 см и D(X) = 25 кв.см?\n",
    "***"
   ]
  },
  {
   "cell_type": "markdown",
   "metadata": {},
   "source": [
    "Среднеквадратичное отклонение = 5  \n",
    "  \n",
    "190 - 178 / 5 = 2,4 (в 2,4 сигмах находится рост 190 см)"
   ]
  }
 ],
 "metadata": {
  "kernelspec": {
   "display_name": "Python 3",
   "language": "python",
   "name": "python3"
  },
  "language_info": {
   "codemirror_mode": {
    "name": "ipython",
    "version": 3
   },
   "file_extension": ".py",
   "mimetype": "text/x-python",
   "name": "python",
   "nbconvert_exporter": "python",
   "pygments_lexer": "ipython3",
   "version": "3.8.5"
  }
 },
 "nbformat": 4,
 "nbformat_minor": 4
}
